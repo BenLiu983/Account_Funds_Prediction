{
 "cells": [
  {
   "cell_type": "code",
   "execution_count": 1,
   "id": "a30b0b79-2565-406f-b830-f365c86d81ad",
   "metadata": {},
   "outputs": [],
   "source": [
    "import numpy as np\n",
    "import pandas as pd\n",
    "\n",
    "from sklearn.model_selection import train_test_split\n",
    "from sklearn.metrics import mean_squared_error, r2_score\n",
    "\n",
    "#import xgboost as xgb\n",
    "#import lightgbm as lgb\n",
    "\n",
    "from hyperopt import hp, tpe, fmin, Trials\n",
    "from hyperopt.pyll.base import scope\n",
    "\n",
    "import mlflow\n",
    "#import mlflow.xgboost\n",
    "#import mlflow.lightgbm\n",
    "\n",
    "import sys\n",
    "import os\n",
    "sys.path.append('/Users/ben/Desktop/py_proj/account_funds_prediction')\n",
    "sys.path.append('/Users/ben/Desktop/py_proj/account_funds_prediction/src')\n",
    "sys.path.append('/Users/ben/Desktop/py_proj/account_funds_prediction/utils')\n",
    "\n",
    "from src.lightgbm_model import *\n",
    "from src.xgboost_model import *\n",
    "from src.linear_regression_model import *\n",
    "\n",
    "from utils.metrics import *\n",
    "from utils.plots import *\n",
    "from utils.model_io import *\n",
    "\n",
    "import warnings\n",
    "warnings.filterwarnings(\"ignore\")\n",
    "\n",
    "import statsmodels.api as sm"
   ]
  },
  {
   "cell_type": "markdown",
   "id": "617ca785-7995-4c05-b20b-620b147a4f53",
   "metadata": {},
   "source": [
    "## 1. Data prep"
   ]
  },
  {
   "cell_type": "code",
   "execution_count": 2,
   "id": "7f7b5c38-4038-4e81-8cb6-265f650410ce",
   "metadata": {},
   "outputs": [],
   "source": [
    "df = pd.read_csv('/Users/ben/Desktop/py_proj/account_funds_prediction/data/df.csv')"
   ]
  },
  {
   "cell_type": "code",
   "execution_count": 3,
   "id": "04dc8b27-d8c2-42b9-9110-3c6495e13b67",
   "metadata": {},
   "outputs": [
    {
     "data": {
      "text/html": [
       "<div>\n",
       "<style scoped>\n",
       "    .dataframe tbody tr th:only-of-type {\n",
       "        vertical-align: middle;\n",
       "    }\n",
       "\n",
       "    .dataframe tbody tr th {\n",
       "        vertical-align: top;\n",
       "    }\n",
       "\n",
       "    .dataframe thead th {\n",
       "        text-align: right;\n",
       "    }\n",
       "</style>\n",
       "<table border=\"1\" class=\"dataframe\">\n",
       "  <thead>\n",
       "    <tr style=\"text-align: right;\">\n",
       "      <th></th>\n",
       "      <th>id</th>\n",
       "      <th>funds_now</th>\n",
       "      <th>funds_after_6months</th>\n",
       "      <th>age</th>\n",
       "      <th>tenure</th>\n",
       "      <th>credit_score</th>\n",
       "      <th>annual_income</th>\n",
       "      <th>mtg_balance</th>\n",
       "      <th>credit_card_balance</th>\n",
       "      <th>loan_balance</th>\n",
       "      <th>...</th>\n",
       "      <th>fea41</th>\n",
       "      <th>fea42</th>\n",
       "      <th>fea43</th>\n",
       "      <th>fea44</th>\n",
       "      <th>fea45</th>\n",
       "      <th>fea46</th>\n",
       "      <th>fea47</th>\n",
       "      <th>fea48</th>\n",
       "      <th>fea49</th>\n",
       "      <th>fea50</th>\n",
       "    </tr>\n",
       "  </thead>\n",
       "  <tbody>\n",
       "    <tr>\n",
       "      <th>0</th>\n",
       "      <td>1</td>\n",
       "      <td>580888.6</td>\n",
       "      <td>411571.0</td>\n",
       "      <td>69</td>\n",
       "      <td>44</td>\n",
       "      <td>443</td>\n",
       "      <td>158191</td>\n",
       "      <td>211023.6</td>\n",
       "      <td>13320.2</td>\n",
       "      <td>11516.5</td>\n",
       "      <td>...</td>\n",
       "      <td>10232.7</td>\n",
       "      <td>26721.0</td>\n",
       "      <td>39983.1</td>\n",
       "      <td>45532.4</td>\n",
       "      <td>11885.7</td>\n",
       "      <td>1</td>\n",
       "      <td>1</td>\n",
       "      <td>1</td>\n",
       "      <td>0</td>\n",
       "      <td>1</td>\n",
       "    </tr>\n",
       "    <tr>\n",
       "      <th>1</th>\n",
       "      <td>2</td>\n",
       "      <td>372438.7</td>\n",
       "      <td>157944.4</td>\n",
       "      <td>32</td>\n",
       "      <td>43</td>\n",
       "      <td>496</td>\n",
       "      <td>208050</td>\n",
       "      <td>19841.3</td>\n",
       "      <td>45983.3</td>\n",
       "      <td>119858.9</td>\n",
       "      <td>...</td>\n",
       "      <td>-26726.7</td>\n",
       "      <td>-19164.4</td>\n",
       "      <td>22911.3</td>\n",
       "      <td>-9997.3</td>\n",
       "      <td>3621.1</td>\n",
       "      <td>1</td>\n",
       "      <td>0</td>\n",
       "      <td>0</td>\n",
       "      <td>0</td>\n",
       "      <td>0</td>\n",
       "    </tr>\n",
       "    <tr>\n",
       "      <th>2</th>\n",
       "      <td>3</td>\n",
       "      <td>645639.9</td>\n",
       "      <td>22235.5</td>\n",
       "      <td>89</td>\n",
       "      <td>55</td>\n",
       "      <td>527</td>\n",
       "      <td>148731</td>\n",
       "      <td>854416.8</td>\n",
       "      <td>41016.9</td>\n",
       "      <td>31300.6</td>\n",
       "      <td>...</td>\n",
       "      <td>-15244.7</td>\n",
       "      <td>4683.6</td>\n",
       "      <td>32100.5</td>\n",
       "      <td>-32710.4</td>\n",
       "      <td>39201.2</td>\n",
       "      <td>1</td>\n",
       "      <td>1</td>\n",
       "      <td>1</td>\n",
       "      <td>1</td>\n",
       "      <td>0</td>\n",
       "    </tr>\n",
       "    <tr>\n",
       "      <th>3</th>\n",
       "      <td>4</td>\n",
       "      <td>1191515.2</td>\n",
       "      <td>316512.4</td>\n",
       "      <td>78</td>\n",
       "      <td>1</td>\n",
       "      <td>628</td>\n",
       "      <td>263843</td>\n",
       "      <td>850936.3</td>\n",
       "      <td>2612.9</td>\n",
       "      <td>73886.1</td>\n",
       "      <td>...</td>\n",
       "      <td>18567.4</td>\n",
       "      <td>28572.1</td>\n",
       "      <td>-44307.5</td>\n",
       "      <td>-43039.7</td>\n",
       "      <td>156.0</td>\n",
       "      <td>1</td>\n",
       "      <td>1</td>\n",
       "      <td>1</td>\n",
       "      <td>1</td>\n",
       "      <td>0</td>\n",
       "    </tr>\n",
       "    <tr>\n",
       "      <th>4</th>\n",
       "      <td>5</td>\n",
       "      <td>348260.8</td>\n",
       "      <td>0.0</td>\n",
       "      <td>38</td>\n",
       "      <td>16</td>\n",
       "      <td>764</td>\n",
       "      <td>264430</td>\n",
       "      <td>979270.8</td>\n",
       "      <td>5583.3</td>\n",
       "      <td>252329.3</td>\n",
       "      <td>...</td>\n",
       "      <td>-15909.1</td>\n",
       "      <td>-33315.5</td>\n",
       "      <td>-32351.8</td>\n",
       "      <td>15200.4</td>\n",
       "      <td>-7349.3</td>\n",
       "      <td>0</td>\n",
       "      <td>0</td>\n",
       "      <td>1</td>\n",
       "      <td>1</td>\n",
       "      <td>0</td>\n",
       "    </tr>\n",
       "  </tbody>\n",
       "</table>\n",
       "<p>5 rows × 52 columns</p>\n",
       "</div>"
      ],
      "text/plain": [
       "   id  funds_now  funds_after_6months  age  tenure  credit_score  \\\n",
       "0   1   580888.6             411571.0   69      44           443   \n",
       "1   2   372438.7             157944.4   32      43           496   \n",
       "2   3   645639.9              22235.5   89      55           527   \n",
       "3   4  1191515.2             316512.4   78       1           628   \n",
       "4   5   348260.8                  0.0   38      16           764   \n",
       "\n",
       "   annual_income  mtg_balance  credit_card_balance  loan_balance  ...  \\\n",
       "0         158191     211023.6              13320.2       11516.5  ...   \n",
       "1         208050      19841.3              45983.3      119858.9  ...   \n",
       "2         148731     854416.8              41016.9       31300.6  ...   \n",
       "3         263843     850936.3               2612.9       73886.1  ...   \n",
       "4         264430     979270.8               5583.3      252329.3  ...   \n",
       "\n",
       "     fea41    fea42    fea43    fea44    fea45  fea46  fea47  fea48  fea49  \\\n",
       "0  10232.7  26721.0  39983.1  45532.4  11885.7      1      1      1      0   \n",
       "1 -26726.7 -19164.4  22911.3  -9997.3   3621.1      1      0      0      0   \n",
       "2 -15244.7   4683.6  32100.5 -32710.4  39201.2      1      1      1      1   \n",
       "3  18567.4  28572.1 -44307.5 -43039.7    156.0      1      1      1      1   \n",
       "4 -15909.1 -33315.5 -32351.8  15200.4  -7349.3      0      0      1      1   \n",
       "\n",
       "   fea50  \n",
       "0      1  \n",
       "1      0  \n",
       "2      0  \n",
       "3      0  \n",
       "4      0  \n",
       "\n",
       "[5 rows x 52 columns]"
      ]
     },
     "execution_count": 3,
     "metadata": {},
     "output_type": "execute_result"
    }
   ],
   "source": [
    "df.head()"
   ]
  },
  {
   "cell_type": "code",
   "execution_count": 4,
   "id": "6e8678e7-feb6-4ed3-8753-1787d800d40b",
   "metadata": {},
   "outputs": [],
   "source": [
    "X = df.drop(columns=['funds_after_6months', 'id'])\n",
    "y = df['funds_after_6months']"
   ]
  },
  {
   "cell_type": "code",
   "execution_count": 5,
   "id": "9151e61c-fcc6-4894-a93c-98ee682b0741",
   "metadata": {},
   "outputs": [],
   "source": [
    "# train test split\n",
    "X_train, X_test, y_train, y_test = train_test_split(X, y, test_size = 0.3, random_state=42)"
   ]
  },
  {
   "cell_type": "markdown",
   "id": "60b4cf86-3de9-494c-b5d0-6728c3fdcc1b",
   "metadata": {},
   "source": [
    "## 2. Baseline model"
   ]
  },
  {
   "cell_type": "code",
   "execution_count": 6,
   "id": "cf993381-16f1-4ce4-9ff1-b6a45cf3ec38",
   "metadata": {},
   "outputs": [],
   "source": [
    "lr_dev1 = linear_regression_v2(X_train=X_train, y_train=y_train, \n",
    "                               X_test=X_test, y_test=y_test,\n",
    "                                model_type = 'baseline', significance_level=0.05)"
   ]
  },
  {
   "cell_type": "code",
   "execution_count": 7,
   "id": "cd81a889-5436-4290-a25f-f41c166915e1",
   "metadata": {},
   "outputs": [],
   "source": [
    "lr1 = lr_dev1.run_model()"
   ]
  },
  {
   "cell_type": "code",
   "execution_count": 8,
   "id": "2e2bdcef-00bb-439c-a4cf-37ba471f1150",
   "metadata": {},
   "outputs": [],
   "source": [
    "# predict train\n",
    "X_train_with_intercept = sm.add_constant(X_train)\n",
    "y_train_pred = lr1.predict(X_train_with_intercept)\n",
    "\n",
    "# predict test\n",
    "X_test_with_intercept = sm.add_constant(X_test)  \n",
    "y_test_pred = lr1.predict(X_test_with_intercept)"
   ]
  },
  {
   "cell_type": "code",
   "execution_count": 9,
   "id": "4ddfc8d1-4f2b-4bb2-90cf-10a95e251846",
   "metadata": {},
   "outputs": [
    {
     "name": "stdout",
     "output_type": "stream",
     "text": [
      " Training RMSE: 85655.1, Test RMSE: 85307.0 \n"
     ]
    }
   ],
   "source": [
    "## RMSE\n",
    "rmse_train = np.sqrt(mean_squared_error(y_train, y_train_pred))\n",
    "rmse_test = np.sqrt(mean_squared_error(y_test, y_test_pred))\n",
    "\n",
    "print(f\" Training RMSE: {rmse_train:.1f}, Test RMSE: {rmse_test:.1f} \")"
   ]
  },
  {
   "cell_type": "code",
   "execution_count": 10,
   "id": "9934b111-5e0e-41e2-acbe-f39b27e7b903",
   "metadata": {},
   "outputs": [
    {
     "name": "stdout",
     "output_type": "stream",
     "text": [
      " Training R2: 0.841, Test R2: 0.842 \n"
     ]
    }
   ],
   "source": [
    "## R2\n",
    "r2_train = r2_score(y_train, y_train_pred)\n",
    "r2_test = r2_score(y_test, y_test_pred)\n",
    "\n",
    "print(f\" Training R2: {r2_train:.3f}, Test R2: {r2_test:.3f} \")"
   ]
  },
  {
   "cell_type": "code",
   "execution_count": 11,
   "id": "9147fb81-d09f-4f57-9d1e-740f6cfac422",
   "metadata": {},
   "outputs": [
    {
     "name": "stdout",
     "output_type": "stream",
     "text": [
      " Training Power Ratio: 0.941, Test Power Ratio: 0.940\n"
     ]
    }
   ],
   "source": [
    "# power ratio\n",
    "pr_train = PowerRatio(y_train_pred, y_train)\n",
    "pr_test = PowerRatio(y_test_pred, y_test)\n",
    "\n",
    "print(f\" Training Power Ratio: {pr_train:.3f}, Test Power Ratio: {pr_test:.3f}\")"
   ]
  },
  {
   "cell_type": "markdown",
   "id": "70deaea0-1a23-4ce4-83a7-b18d861d9f88",
   "metadata": {},
   "source": [
    "## 3. Backward selection"
   ]
  },
  {
   "cell_type": "code",
   "execution_count": 12,
   "id": "f9d48e08-3025-4090-a37a-a52a769dc669",
   "metadata": {
    "scrolled": true
   },
   "outputs": [],
   "source": [
    "lr_dev2 = linear_regression_v2(X_train=X_train, y_train=y_train, \n",
    "                               X_test=X_test, y_test=y_test,\n",
    "                                model_type = 'backward', significance_level=0.05)"
   ]
  },
  {
   "cell_type": "code",
   "execution_count": 13,
   "id": "3e4df83c-8a47-4f7f-915c-e480e83f464f",
   "metadata": {},
   "outputs": [
    {
     "name": "stdout",
     "output_type": "stream",
     "text": [
      "CPU times: user 38.9 s, sys: 14 s, total: 52.8 s\n",
      "Wall time: 6.83 s\n"
     ]
    }
   ],
   "source": [
    "%%time\n",
    "lr2 = lr_dev2.run_model()"
   ]
  },
  {
   "cell_type": "code",
   "execution_count": 14,
   "id": "0ebd4000-0e70-4c62-bba3-44d8980637b2",
   "metadata": {},
   "outputs": [
    {
     "data": {
      "text/plain": [
       "<statsmodels.regression.linear_model.RegressionResultsWrapper at 0x107828bb0>"
      ]
     },
     "execution_count": 14,
     "metadata": {},
     "output_type": "execute_result"
    }
   ],
   "source": [
    "lr2_model = lr2[0]\n",
    "lr2_model"
   ]
  },
  {
   "cell_type": "code",
   "execution_count": 15,
   "id": "67855bba-74f4-497b-8158-979096759683",
   "metadata": {},
   "outputs": [
    {
     "data": {
      "text/html": [
       "<div>\n",
       "<style scoped>\n",
       "    .dataframe tbody tr th:only-of-type {\n",
       "        vertical-align: middle;\n",
       "    }\n",
       "\n",
       "    .dataframe tbody tr th {\n",
       "        vertical-align: top;\n",
       "    }\n",
       "\n",
       "    .dataframe thead th {\n",
       "        text-align: right;\n",
       "    }\n",
       "</style>\n",
       "<table border=\"1\" class=\"dataframe\">\n",
       "  <thead>\n",
       "    <tr style=\"text-align: right;\">\n",
       "      <th></th>\n",
       "      <th>const</th>\n",
       "      <th>funds_now</th>\n",
       "      <th>annual_income</th>\n",
       "      <th>mtg_balance</th>\n",
       "      <th>credit_card_balance</th>\n",
       "      <th>loan_balance</th>\n",
       "      <th>splc_balance</th>\n",
       "      <th>inflow</th>\n",
       "      <th>outflow</th>\n",
       "      <th>fea20</th>\n",
       "      <th>fea29</th>\n",
       "      <th>fea35</th>\n",
       "    </tr>\n",
       "  </thead>\n",
       "  <tbody>\n",
       "    <tr>\n",
       "      <th>21269</th>\n",
       "      <td>1.0</td>\n",
       "      <td>811385.4</td>\n",
       "      <td>115474</td>\n",
       "      <td>226504.8</td>\n",
       "      <td>27880.9</td>\n",
       "      <td>34313.1</td>\n",
       "      <td>509701.4</td>\n",
       "      <td>52375.0</td>\n",
       "      <td>17607.8</td>\n",
       "      <td>74532.4</td>\n",
       "      <td>119813.5</td>\n",
       "      <td>-42397.8</td>\n",
       "    </tr>\n",
       "    <tr>\n",
       "      <th>187660</th>\n",
       "      <td>1.0</td>\n",
       "      <td>193423.4</td>\n",
       "      <td>245395</td>\n",
       "      <td>408844.8</td>\n",
       "      <td>40916.5</td>\n",
       "      <td>172262.6</td>\n",
       "      <td>562633.0</td>\n",
       "      <td>117076.6</td>\n",
       "      <td>5692.0</td>\n",
       "      <td>148676.2</td>\n",
       "      <td>7825.4</td>\n",
       "      <td>-35958.7</td>\n",
       "    </tr>\n",
       "    <tr>\n",
       "      <th>774</th>\n",
       "      <td>1.0</td>\n",
       "      <td>634050.2</td>\n",
       "      <td>59336</td>\n",
       "      <td>362281.7</td>\n",
       "      <td>1832.4</td>\n",
       "      <td>284187.4</td>\n",
       "      <td>479036.7</td>\n",
       "      <td>43909.2</td>\n",
       "      <td>122704.5</td>\n",
       "      <td>134178.7</td>\n",
       "      <td>120643.9</td>\n",
       "      <td>32801.9</td>\n",
       "    </tr>\n",
       "    <tr>\n",
       "      <th>184577</th>\n",
       "      <td>1.0</td>\n",
       "      <td>1748997.0</td>\n",
       "      <td>254866</td>\n",
       "      <td>612043.4</td>\n",
       "      <td>3604.5</td>\n",
       "      <td>100824.7</td>\n",
       "      <td>776705.9</td>\n",
       "      <td>178830.4</td>\n",
       "      <td>40894.1</td>\n",
       "      <td>136640.6</td>\n",
       "      <td>144138.3</td>\n",
       "      <td>-42864.8</td>\n",
       "    </tr>\n",
       "    <tr>\n",
       "      <th>37127</th>\n",
       "      <td>1.0</td>\n",
       "      <td>480552.0</td>\n",
       "      <td>160373</td>\n",
       "      <td>161387.3</td>\n",
       "      <td>35483.5</td>\n",
       "      <td>9448.0</td>\n",
       "      <td>646735.7</td>\n",
       "      <td>34353.3</td>\n",
       "      <td>15958.4</td>\n",
       "      <td>156185.7</td>\n",
       "      <td>79976.8</td>\n",
       "      <td>-11909.6</td>\n",
       "    </tr>\n",
       "  </tbody>\n",
       "</table>\n",
       "</div>"
      ],
      "text/plain": [
       "        const  funds_now  annual_income  mtg_balance  credit_card_balance  \\\n",
       "21269     1.0   811385.4         115474     226504.8              27880.9   \n",
       "187660    1.0   193423.4         245395     408844.8              40916.5   \n",
       "774       1.0   634050.2          59336     362281.7               1832.4   \n",
       "184577    1.0  1748997.0         254866     612043.4               3604.5   \n",
       "37127     1.0   480552.0         160373     161387.3              35483.5   \n",
       "\n",
       "        loan_balance  splc_balance    inflow   outflow     fea20     fea29  \\\n",
       "21269        34313.1      509701.4   52375.0   17607.8   74532.4  119813.5   \n",
       "187660      172262.6      562633.0  117076.6    5692.0  148676.2    7825.4   \n",
       "774         284187.4      479036.7   43909.2  122704.5  134178.7  120643.9   \n",
       "184577      100824.7      776705.9  178830.4   40894.1  136640.6  144138.3   \n",
       "37127         9448.0      646735.7   34353.3   15958.4  156185.7   79976.8   \n",
       "\n",
       "          fea35  \n",
       "21269  -42397.8  \n",
       "187660 -35958.7  \n",
       "774     32801.9  \n",
       "184577 -42864.8  \n",
       "37127  -11909.6  "
      ]
     },
     "execution_count": 15,
     "metadata": {},
     "output_type": "execute_result"
    }
   ],
   "source": [
    "X_selected_backward = lr2[1]\n",
    "X_selected_backward.head()"
   ]
  },
  {
   "cell_type": "code",
   "execution_count": 16,
   "id": "b8610c24-7cb3-4d13-978d-0b4da0db4a45",
   "metadata": {},
   "outputs": [],
   "source": [
    "# predict train\n",
    "y_train_pred = lr2_model.predict(X_selected_backward)\n",
    "\n",
    "# predict test \n",
    "X_test_with_intercept = sm.add_constant(X_test)\n",
    "y_test_pred = lr2_model.predict(X_test_with_intercept[X_selected_backward.columns])"
   ]
  },
  {
   "cell_type": "code",
   "execution_count": 17,
   "id": "3b5e7a6e-25cd-45e6-bd15-7a4bfde6e3d6",
   "metadata": {},
   "outputs": [
    {
     "name": "stdout",
     "output_type": "stream",
     "text": [
      " Training RMSE: 85664.9, Test RMSE: 85301.3 \n"
     ]
    }
   ],
   "source": [
    "## RMSE\n",
    "rmse_train = np.sqrt(mean_squared_error(y_train, y_train_pred))\n",
    "rmse_test = np.sqrt(mean_squared_error(y_test, y_test_pred))\n",
    "\n",
    "print(f\" Training RMSE: {rmse_train:.1f}, Test RMSE: {rmse_test:.1f} \")"
   ]
  },
  {
   "cell_type": "code",
   "execution_count": 18,
   "id": "67fbc938-e21c-472a-a472-4da57e502ada",
   "metadata": {},
   "outputs": [
    {
     "name": "stdout",
     "output_type": "stream",
     "text": [
      " Training R2: 0.841, Test R2: 0.842 \n"
     ]
    }
   ],
   "source": [
    "## R2\n",
    "r2_train = r2_score(y_train, y_train_pred)\n",
    "r2_test = r2_score(y_test, y_test_pred)\n",
    "\n",
    "print(f\" Training R2: {r2_train:.3f}, Test R2: {r2_test:.3f} \")"
   ]
  },
  {
   "cell_type": "code",
   "execution_count": 19,
   "id": "8a4a6c8d-6bac-4d7b-85e5-775fc6641125",
   "metadata": {},
   "outputs": [
    {
     "name": "stdout",
     "output_type": "stream",
     "text": [
      " Training Power Ratio: 0.941, Test Power Ratio: 0.940\n"
     ]
    }
   ],
   "source": [
    "# power ratio\n",
    "pr_train = PowerRatio(y_train_pred, y_train)\n",
    "pr_test = PowerRatio(y_test_pred, y_test)\n",
    "\n",
    "print(f\" Training Power Ratio: {pr_train:.3f}, Test Power Ratio: {pr_test:.3f}\")"
   ]
  },
  {
   "cell_type": "markdown",
   "id": "cbb68db7-f51c-4b4b-a06c-b0027c88be7c",
   "metadata": {},
   "source": [
    "## 4. Forward selection"
   ]
  },
  {
   "cell_type": "code",
   "execution_count": 20,
   "id": "f9690026-c746-4ace-8b7c-978191cbd086",
   "metadata": {},
   "outputs": [],
   "source": [
    "lr_dev3 = linear_regression_v2(X_train=X_train, y_train=y_train, \n",
    "                               X_test=X_test, y_test=y_test,\n",
    "                                model_type = 'forward', significance_level=0.05)"
   ]
  },
  {
   "cell_type": "code",
   "execution_count": 21,
   "id": "8b03eb4e-bf5d-4f9d-8d9a-6d484ec09cbc",
   "metadata": {},
   "outputs": [],
   "source": [
    "lr3 = lr_dev3.run_model()"
   ]
  },
  {
   "cell_type": "code",
   "execution_count": 22,
   "id": "3cf22ae8-8eaa-4a98-9828-2838d135692e",
   "metadata": {},
   "outputs": [
    {
     "data": {
      "text/plain": [
       "<statsmodels.regression.linear_model.RegressionResultsWrapper at 0x17f7501f0>"
      ]
     },
     "execution_count": 22,
     "metadata": {},
     "output_type": "execute_result"
    }
   ],
   "source": [
    "lr3_model = lr3[0]\n",
    "lr3_model"
   ]
  },
  {
   "cell_type": "code",
   "execution_count": 23,
   "id": "0c3a8a1b-75b0-4bb2-869f-d12026c3d0a0",
   "metadata": {},
   "outputs": [
    {
     "data": {
      "text/html": [
       "<div>\n",
       "<style scoped>\n",
       "    .dataframe tbody tr th:only-of-type {\n",
       "        vertical-align: middle;\n",
       "    }\n",
       "\n",
       "    .dataframe tbody tr th {\n",
       "        vertical-align: top;\n",
       "    }\n",
       "\n",
       "    .dataframe thead th {\n",
       "        text-align: right;\n",
       "    }\n",
       "</style>\n",
       "<table border=\"1\" class=\"dataframe\">\n",
       "  <thead>\n",
       "    <tr style=\"text-align: right;\">\n",
       "      <th></th>\n",
       "      <th>const</th>\n",
       "      <th>funds_now</th>\n",
       "      <th>annual_income</th>\n",
       "      <th>mtg_balance</th>\n",
       "      <th>loan_balance</th>\n",
       "      <th>splc_balance</th>\n",
       "      <th>inflow</th>\n",
       "      <th>outflow</th>\n",
       "      <th>credit_card_balance</th>\n",
       "      <th>fea20</th>\n",
       "      <th>fea29</th>\n",
       "      <th>fea35</th>\n",
       "    </tr>\n",
       "  </thead>\n",
       "  <tbody>\n",
       "    <tr>\n",
       "      <th>21269</th>\n",
       "      <td>1.0</td>\n",
       "      <td>811385.4</td>\n",
       "      <td>115474</td>\n",
       "      <td>226504.8</td>\n",
       "      <td>34313.1</td>\n",
       "      <td>509701.4</td>\n",
       "      <td>52375.0</td>\n",
       "      <td>17607.8</td>\n",
       "      <td>27880.9</td>\n",
       "      <td>74532.4</td>\n",
       "      <td>119813.5</td>\n",
       "      <td>-42397.8</td>\n",
       "    </tr>\n",
       "    <tr>\n",
       "      <th>187660</th>\n",
       "      <td>1.0</td>\n",
       "      <td>193423.4</td>\n",
       "      <td>245395</td>\n",
       "      <td>408844.8</td>\n",
       "      <td>172262.6</td>\n",
       "      <td>562633.0</td>\n",
       "      <td>117076.6</td>\n",
       "      <td>5692.0</td>\n",
       "      <td>40916.5</td>\n",
       "      <td>148676.2</td>\n",
       "      <td>7825.4</td>\n",
       "      <td>-35958.7</td>\n",
       "    </tr>\n",
       "    <tr>\n",
       "      <th>774</th>\n",
       "      <td>1.0</td>\n",
       "      <td>634050.2</td>\n",
       "      <td>59336</td>\n",
       "      <td>362281.7</td>\n",
       "      <td>284187.4</td>\n",
       "      <td>479036.7</td>\n",
       "      <td>43909.2</td>\n",
       "      <td>122704.5</td>\n",
       "      <td>1832.4</td>\n",
       "      <td>134178.7</td>\n",
       "      <td>120643.9</td>\n",
       "      <td>32801.9</td>\n",
       "    </tr>\n",
       "    <tr>\n",
       "      <th>184577</th>\n",
       "      <td>1.0</td>\n",
       "      <td>1748997.0</td>\n",
       "      <td>254866</td>\n",
       "      <td>612043.4</td>\n",
       "      <td>100824.7</td>\n",
       "      <td>776705.9</td>\n",
       "      <td>178830.4</td>\n",
       "      <td>40894.1</td>\n",
       "      <td>3604.5</td>\n",
       "      <td>136640.6</td>\n",
       "      <td>144138.3</td>\n",
       "      <td>-42864.8</td>\n",
       "    </tr>\n",
       "    <tr>\n",
       "      <th>37127</th>\n",
       "      <td>1.0</td>\n",
       "      <td>480552.0</td>\n",
       "      <td>160373</td>\n",
       "      <td>161387.3</td>\n",
       "      <td>9448.0</td>\n",
       "      <td>646735.7</td>\n",
       "      <td>34353.3</td>\n",
       "      <td>15958.4</td>\n",
       "      <td>35483.5</td>\n",
       "      <td>156185.7</td>\n",
       "      <td>79976.8</td>\n",
       "      <td>-11909.6</td>\n",
       "    </tr>\n",
       "  </tbody>\n",
       "</table>\n",
       "</div>"
      ],
      "text/plain": [
       "        const  funds_now  annual_income  mtg_balance  loan_balance  \\\n",
       "21269     1.0   811385.4         115474     226504.8       34313.1   \n",
       "187660    1.0   193423.4         245395     408844.8      172262.6   \n",
       "774       1.0   634050.2          59336     362281.7      284187.4   \n",
       "184577    1.0  1748997.0         254866     612043.4      100824.7   \n",
       "37127     1.0   480552.0         160373     161387.3        9448.0   \n",
       "\n",
       "        splc_balance    inflow   outflow  credit_card_balance     fea20  \\\n",
       "21269       509701.4   52375.0   17607.8              27880.9   74532.4   \n",
       "187660      562633.0  117076.6    5692.0              40916.5  148676.2   \n",
       "774         479036.7   43909.2  122704.5               1832.4  134178.7   \n",
       "184577      776705.9  178830.4   40894.1               3604.5  136640.6   \n",
       "37127       646735.7   34353.3   15958.4              35483.5  156185.7   \n",
       "\n",
       "           fea29    fea35  \n",
       "21269   119813.5 -42397.8  \n",
       "187660    7825.4 -35958.7  \n",
       "774     120643.9  32801.9  \n",
       "184577  144138.3 -42864.8  \n",
       "37127    79976.8 -11909.6  "
      ]
     },
     "execution_count": 23,
     "metadata": {},
     "output_type": "execute_result"
    }
   ],
   "source": [
    "X_selected_forward = lr3[1]\n",
    "X_selected_forward.head()"
   ]
  },
  {
   "cell_type": "code",
   "execution_count": 24,
   "id": "ee0d18a2-cce8-4be0-9677-605d8df2ca1a",
   "metadata": {},
   "outputs": [],
   "source": [
    "# predict train\n",
    "y_train_pred = lr3_model.predict(X_selected_forward)\n",
    "\n",
    "# predict test \n",
    "X_test_with_intercept = sm.add_constant(X_test)\n",
    "y_test_pred = lr3_model.predict(X_test_with_intercept[X_selected_forward.columns])"
   ]
  },
  {
   "cell_type": "code",
   "execution_count": 25,
   "id": "b5ab42fb-cee3-4ce8-a099-f86aa8411275",
   "metadata": {},
   "outputs": [
    {
     "name": "stdout",
     "output_type": "stream",
     "text": [
      " Training RMSE: 85664.9, Test RMSE: 85301.3 \n"
     ]
    }
   ],
   "source": [
    "## RMSE\n",
    "rmse_train = np.sqrt(mean_squared_error(y_train, y_train_pred))\n",
    "rmse_test = np.sqrt(mean_squared_error(y_test, y_test_pred))\n",
    "\n",
    "print(f\" Training RMSE: {rmse_train:.1f}, Test RMSE: {rmse_test:.1f} \")"
   ]
  },
  {
   "cell_type": "code",
   "execution_count": 26,
   "id": "38546a14-bd75-48f4-b8c8-080b28b46dcf",
   "metadata": {},
   "outputs": [
    {
     "name": "stdout",
     "output_type": "stream",
     "text": [
      " Training R2: 0.841, Test R2: 0.842 \n"
     ]
    }
   ],
   "source": [
    "## R2\n",
    "r2_train = r2_score(y_train, y_train_pred)\n",
    "r2_test = r2_score(y_test, y_test_pred)\n",
    "\n",
    "print(f\" Training R2: {r2_train:.3f}, Test R2: {r2_test:.3f} \")"
   ]
  },
  {
   "cell_type": "code",
   "execution_count": 27,
   "id": "d270285a-4550-4c7a-8549-5190f4b32c26",
   "metadata": {},
   "outputs": [
    {
     "name": "stdout",
     "output_type": "stream",
     "text": [
      " Training Power Ratio: 0.941, Test Power Ratio: 0.940\n"
     ]
    }
   ],
   "source": [
    "# power ratio\n",
    "pr_train = PowerRatio(y_train_pred, y_train)\n",
    "pr_test = PowerRatio(y_test_pred, y_test)\n",
    "\n",
    "print(f\" Training Power Ratio: {pr_train:.3f}, Test Power Ratio: {pr_test:.3f}\")"
   ]
  },
  {
   "cell_type": "markdown",
   "id": "52127c4f-549e-46bd-b2b5-174f4ab1f591",
   "metadata": {},
   "source": [
    "* The backward selection and forward selection produce the same model (same key features), we will save the backward model."
   ]
  },
  {
   "cell_type": "markdown",
   "id": "c17350a1-2505-48b2-a13a-ea5bd55885f5",
   "metadata": {},
   "source": [
    "## 5. Save the best model"
   ]
  },
  {
   "cell_type": "code",
   "execution_count": 28,
   "id": "4ae13c28-bb20-4a3a-9987-2846dbaf1581",
   "metadata": {},
   "outputs": [
    {
     "data": {
      "text/plain": [
       "<statsmodels.regression.linear_model.RegressionResultsWrapper at 0x107828bb0>"
      ]
     },
     "execution_count": 28,
     "metadata": {},
     "output_type": "execute_result"
    }
   ],
   "source": [
    "lr_model = lr2[0]\n",
    "lr_model"
   ]
  },
  {
   "cell_type": "code",
   "execution_count": 29,
   "id": "ccd8010e-761d-40f6-865b-747fd5fc24b9",
   "metadata": {},
   "outputs": [
    {
     "name": "stdout",
     "output_type": "stream",
     "text": [
      "Model saved to /Users/ben/Desktop/py_proj/account_funds_prediction/models/lr_model.pkl\n"
     ]
    }
   ],
   "source": [
    "save_model(lr_model, \"lr_model.pkl\", \"/Users/ben/Desktop/py_proj/account_funds_prediction/models\")"
   ]
  },
  {
   "cell_type": "code",
   "execution_count": 30,
   "id": "cd662b62-d4d8-4e04-b9df-a3e611ffdc59",
   "metadata": {},
   "outputs": [
    {
     "name": "stdout",
     "output_type": "stream",
     "text": [
      "Model loaded from /Users/ben/Desktop/py_proj/account_funds_prediction/models/lr_model.pkl\n"
     ]
    }
   ],
   "source": [
    "# test reading the pkl file\n",
    "model_test = load_model(\"lr_model.pkl\", \"/Users/ben/Desktop/py_proj/account_funds_prediction/models\")"
   ]
  },
  {
   "cell_type": "code",
   "execution_count": 31,
   "id": "dabbbea4-82e8-4d58-abc3-423f6a31bf42",
   "metadata": {},
   "outputs": [
    {
     "data": {
      "text/plain": [
       "<statsmodels.regression.linear_model.RegressionResultsWrapper at 0x17f770d30>"
      ]
     },
     "execution_count": 31,
     "metadata": {},
     "output_type": "execute_result"
    }
   ],
   "source": [
    "model_test"
   ]
  },
  {
   "cell_type": "code",
   "execution_count": null,
   "id": "65674f5a-f90a-4415-9429-74603e0643f1",
   "metadata": {},
   "outputs": [],
   "source": []
  }
 ],
 "metadata": {
  "kernelspec": {
   "display_name": "Pyproj venv1",
   "language": "python",
   "name": "venv1"
  },
  "language_info": {
   "codemirror_mode": {
    "name": "ipython",
    "version": 3
   },
   "file_extension": ".py",
   "mimetype": "text/x-python",
   "name": "python",
   "nbconvert_exporter": "python",
   "pygments_lexer": "ipython3",
   "version": "3.9.10"
  }
 },
 "nbformat": 4,
 "nbformat_minor": 5
}
