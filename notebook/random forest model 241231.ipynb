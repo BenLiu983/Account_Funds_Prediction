{
 "cells": [
  {
   "cell_type": "code",
   "execution_count": 1,
   "id": "fefe8dac-0046-49cf-a556-40648a3cc2a5",
   "metadata": {},
   "outputs": [],
   "source": [
    "import numpy as np\n",
    "import pandas as pd\n",
    "\n",
    "from sklearn.model_selection import train_test_split\n",
    "from sklearn.metrics import mean_squared_error, r2_score\n",
    "from sklearn.ensemble import RandomForestRegressor\n",
    "\n",
    "#import xgboost as xgb\n",
    "#import lightgbm as lgb\n",
    "\n",
    "from hyperopt import hp, tpe, fmin, Trials\n",
    "from hyperopt.pyll.base import scope\n",
    "\n",
    "import mlflow\n",
    "import mlflow.sklearn\n",
    "#import mlflow.lightgbm\n",
    "\n",
    "import sys\n",
    "import os\n",
    "sys.path.append('/Users/ben/Desktop/py_proj/account_funds_prediction')\n",
    "sys.path.append('/Users/ben/Desktop/py_proj/account_funds_prediction/src')\n",
    "sys.path.append('/Users/ben/Desktop/py_proj/account_funds_prediction/utils')\n",
    "\n",
    "from src.lightgbm_model import *\n",
    "from src.xgboost_model import *\n",
    "from src.random_forest_model import *\n",
    "\n",
    "from utils.metrics import *\n",
    "from utils.plots import *\n",
    "from utils.model_io import *\n",
    "\n",
    "import warnings\n",
    "warnings.filterwarnings(\"ignore\")"
   ]
  },
  {
   "cell_type": "code",
   "execution_count": 2,
   "id": "d224e701-29a6-49f4-b642-617f401de7fa",
   "metadata": {},
   "outputs": [
    {
     "data": {
      "text/plain": [
       "['/Library/Frameworks/Python.framework/Versions/3.9/lib/python39.zip',\n",
       " '/Library/Frameworks/Python.framework/Versions/3.9/lib/python3.9',\n",
       " '/Library/Frameworks/Python.framework/Versions/3.9/lib/python3.9/lib-dynload',\n",
       " '',\n",
       " '/Users/ben/Desktop/py_proj/account_funds_prediction/venv1/lib/python3.9/site-packages',\n",
       " '/Users/ben/Desktop/py_proj/account_funds_prediction',\n",
       " '/Users/ben/Desktop/py_proj/account_funds_prediction/src',\n",
       " '/Users/ben/Desktop/py_proj/account_funds_prediction/utils']"
      ]
     },
     "execution_count": 2,
     "metadata": {},
     "output_type": "execute_result"
    }
   ],
   "source": [
    "sys.path"
   ]
  },
  {
   "cell_type": "code",
   "execution_count": 3,
   "id": "6f141696-6c81-4218-a000-684941df3335",
   "metadata": {},
   "outputs": [
    {
     "data": {
      "text/plain": [
       "'/Users/ben/Desktop/py_proj/account_funds_prediction/notebook'"
      ]
     },
     "execution_count": 3,
     "metadata": {},
     "output_type": "execute_result"
    }
   ],
   "source": [
    "os.getcwd()"
   ]
  },
  {
   "cell_type": "markdown",
   "id": "dd0435f5-6fda-4860-84b3-50d2f6448f92",
   "metadata": {},
   "source": [
    "## 1. Data prep"
   ]
  },
  {
   "cell_type": "code",
   "execution_count": 4,
   "id": "a82a443e-8e01-422d-8fbd-0d65d1a277cf",
   "metadata": {},
   "outputs": [],
   "source": [
    "df = pd.read_csv('/Users/ben/Desktop/py_proj/account_funds_prediction/data/df.csv')"
   ]
  },
  {
   "cell_type": "code",
   "execution_count": 5,
   "id": "213d9133-f3fa-4474-b814-8d0741ea9282",
   "metadata": {},
   "outputs": [
    {
     "data": {
      "text/html": [
       "<div>\n",
       "<style scoped>\n",
       "    .dataframe tbody tr th:only-of-type {\n",
       "        vertical-align: middle;\n",
       "    }\n",
       "\n",
       "    .dataframe tbody tr th {\n",
       "        vertical-align: top;\n",
       "    }\n",
       "\n",
       "    .dataframe thead th {\n",
       "        text-align: right;\n",
       "    }\n",
       "</style>\n",
       "<table border=\"1\" class=\"dataframe\">\n",
       "  <thead>\n",
       "    <tr style=\"text-align: right;\">\n",
       "      <th></th>\n",
       "      <th>id</th>\n",
       "      <th>funds_now</th>\n",
       "      <th>funds_after_6months</th>\n",
       "      <th>age</th>\n",
       "      <th>tenure</th>\n",
       "      <th>credit_score</th>\n",
       "      <th>annual_income</th>\n",
       "      <th>mtg_balance</th>\n",
       "      <th>credit_card_balance</th>\n",
       "      <th>loan_balance</th>\n",
       "      <th>...</th>\n",
       "      <th>fea41</th>\n",
       "      <th>fea42</th>\n",
       "      <th>fea43</th>\n",
       "      <th>fea44</th>\n",
       "      <th>fea45</th>\n",
       "      <th>fea46</th>\n",
       "      <th>fea47</th>\n",
       "      <th>fea48</th>\n",
       "      <th>fea49</th>\n",
       "      <th>fea50</th>\n",
       "    </tr>\n",
       "  </thead>\n",
       "  <tbody>\n",
       "    <tr>\n",
       "      <th>0</th>\n",
       "      <td>1</td>\n",
       "      <td>580888.6</td>\n",
       "      <td>411571.0</td>\n",
       "      <td>69</td>\n",
       "      <td>44</td>\n",
       "      <td>443</td>\n",
       "      <td>158191</td>\n",
       "      <td>211023.6</td>\n",
       "      <td>13320.2</td>\n",
       "      <td>11516.5</td>\n",
       "      <td>...</td>\n",
       "      <td>10232.7</td>\n",
       "      <td>26721.0</td>\n",
       "      <td>39983.1</td>\n",
       "      <td>45532.4</td>\n",
       "      <td>11885.7</td>\n",
       "      <td>1</td>\n",
       "      <td>1</td>\n",
       "      <td>1</td>\n",
       "      <td>0</td>\n",
       "      <td>1</td>\n",
       "    </tr>\n",
       "    <tr>\n",
       "      <th>1</th>\n",
       "      <td>2</td>\n",
       "      <td>372438.7</td>\n",
       "      <td>157944.4</td>\n",
       "      <td>32</td>\n",
       "      <td>43</td>\n",
       "      <td>496</td>\n",
       "      <td>208050</td>\n",
       "      <td>19841.3</td>\n",
       "      <td>45983.3</td>\n",
       "      <td>119858.9</td>\n",
       "      <td>...</td>\n",
       "      <td>-26726.7</td>\n",
       "      <td>-19164.4</td>\n",
       "      <td>22911.3</td>\n",
       "      <td>-9997.3</td>\n",
       "      <td>3621.1</td>\n",
       "      <td>1</td>\n",
       "      <td>0</td>\n",
       "      <td>0</td>\n",
       "      <td>0</td>\n",
       "      <td>0</td>\n",
       "    </tr>\n",
       "    <tr>\n",
       "      <th>2</th>\n",
       "      <td>3</td>\n",
       "      <td>645639.9</td>\n",
       "      <td>22235.5</td>\n",
       "      <td>89</td>\n",
       "      <td>55</td>\n",
       "      <td>527</td>\n",
       "      <td>148731</td>\n",
       "      <td>854416.8</td>\n",
       "      <td>41016.9</td>\n",
       "      <td>31300.6</td>\n",
       "      <td>...</td>\n",
       "      <td>-15244.7</td>\n",
       "      <td>4683.6</td>\n",
       "      <td>32100.5</td>\n",
       "      <td>-32710.4</td>\n",
       "      <td>39201.2</td>\n",
       "      <td>1</td>\n",
       "      <td>1</td>\n",
       "      <td>1</td>\n",
       "      <td>1</td>\n",
       "      <td>0</td>\n",
       "    </tr>\n",
       "    <tr>\n",
       "      <th>3</th>\n",
       "      <td>4</td>\n",
       "      <td>1191515.2</td>\n",
       "      <td>316512.4</td>\n",
       "      <td>78</td>\n",
       "      <td>1</td>\n",
       "      <td>628</td>\n",
       "      <td>263843</td>\n",
       "      <td>850936.3</td>\n",
       "      <td>2612.9</td>\n",
       "      <td>73886.1</td>\n",
       "      <td>...</td>\n",
       "      <td>18567.4</td>\n",
       "      <td>28572.1</td>\n",
       "      <td>-44307.5</td>\n",
       "      <td>-43039.7</td>\n",
       "      <td>156.0</td>\n",
       "      <td>1</td>\n",
       "      <td>1</td>\n",
       "      <td>1</td>\n",
       "      <td>1</td>\n",
       "      <td>0</td>\n",
       "    </tr>\n",
       "    <tr>\n",
       "      <th>4</th>\n",
       "      <td>5</td>\n",
       "      <td>348260.8</td>\n",
       "      <td>0.0</td>\n",
       "      <td>38</td>\n",
       "      <td>16</td>\n",
       "      <td>764</td>\n",
       "      <td>264430</td>\n",
       "      <td>979270.8</td>\n",
       "      <td>5583.3</td>\n",
       "      <td>252329.3</td>\n",
       "      <td>...</td>\n",
       "      <td>-15909.1</td>\n",
       "      <td>-33315.5</td>\n",
       "      <td>-32351.8</td>\n",
       "      <td>15200.4</td>\n",
       "      <td>-7349.3</td>\n",
       "      <td>0</td>\n",
       "      <td>0</td>\n",
       "      <td>1</td>\n",
       "      <td>1</td>\n",
       "      <td>0</td>\n",
       "    </tr>\n",
       "  </tbody>\n",
       "</table>\n",
       "<p>5 rows × 52 columns</p>\n",
       "</div>"
      ],
      "text/plain": [
       "   id  funds_now  funds_after_6months  age  tenure  credit_score  \\\n",
       "0   1   580888.6             411571.0   69      44           443   \n",
       "1   2   372438.7             157944.4   32      43           496   \n",
       "2   3   645639.9              22235.5   89      55           527   \n",
       "3   4  1191515.2             316512.4   78       1           628   \n",
       "4   5   348260.8                  0.0   38      16           764   \n",
       "\n",
       "   annual_income  mtg_balance  credit_card_balance  loan_balance  ...  \\\n",
       "0         158191     211023.6              13320.2       11516.5  ...   \n",
       "1         208050      19841.3              45983.3      119858.9  ...   \n",
       "2         148731     854416.8              41016.9       31300.6  ...   \n",
       "3         263843     850936.3               2612.9       73886.1  ...   \n",
       "4         264430     979270.8               5583.3      252329.3  ...   \n",
       "\n",
       "     fea41    fea42    fea43    fea44    fea45  fea46  fea47  fea48  fea49  \\\n",
       "0  10232.7  26721.0  39983.1  45532.4  11885.7      1      1      1      0   \n",
       "1 -26726.7 -19164.4  22911.3  -9997.3   3621.1      1      0      0      0   \n",
       "2 -15244.7   4683.6  32100.5 -32710.4  39201.2      1      1      1      1   \n",
       "3  18567.4  28572.1 -44307.5 -43039.7    156.0      1      1      1      1   \n",
       "4 -15909.1 -33315.5 -32351.8  15200.4  -7349.3      0      0      1      1   \n",
       "\n",
       "   fea50  \n",
       "0      1  \n",
       "1      0  \n",
       "2      0  \n",
       "3      0  \n",
       "4      0  \n",
       "\n",
       "[5 rows x 52 columns]"
      ]
     },
     "execution_count": 5,
     "metadata": {},
     "output_type": "execute_result"
    }
   ],
   "source": [
    "df.head()"
   ]
  },
  {
   "cell_type": "code",
   "execution_count": 6,
   "id": "1e392257-0b54-4bc7-9a55-bb5c4f1018bd",
   "metadata": {},
   "outputs": [
    {
     "data": {
      "text/plain": [
       "(200000, 52)"
      ]
     },
     "execution_count": 6,
     "metadata": {},
     "output_type": "execute_result"
    }
   ],
   "source": [
    "df.shape"
   ]
  },
  {
   "cell_type": "code",
   "execution_count": 7,
   "id": "2aacbbc1-d78d-4d0a-a60a-6b6b2c960de6",
   "metadata": {},
   "outputs": [],
   "source": [
    "# train test split\n",
    "X = df.drop(columns=['id', 'funds_after_6months'])\n",
    "y = df['funds_after_6months']\n",
    "\n",
    "X_train, X_test, y_train, y_test = train_test_split(X, y, test_size = 0.3, random_state=42)"
   ]
  },
  {
   "cell_type": "markdown",
   "id": "de7726be-6111-4409-af04-dc83c7e850be",
   "metadata": {},
   "source": [
    "## 2. Baseline Model"
   ]
  },
  {
   "cell_type": "code",
   "execution_count": 8,
   "id": "b7b1254e-70e6-4897-b882-a9f5ae02d3f4",
   "metadata": {},
   "outputs": [],
   "source": [
    "baseline_params = {\n",
    "    'max_depth': 3,\n",
    "    'n_estimators': 50,\n",
    "    'max_features': 'sqrt'\n",
    "\n",
    "}"
   ]
  },
  {
   "cell_type": "code",
   "execution_count": 9,
   "id": "dcbf3464-a961-452b-af89-63087967b87f",
   "metadata": {},
   "outputs": [],
   "source": [
    "rf_dev1 = random_forest_dev_v1(X_train=X_train, y_train=y_train, \n",
    "                   X_test=X_test, y_test=y_test,\n",
    "                   baseline_params = baseline_params,\n",
    "                   baseline_ind=1,\n",
    "                   max_evals=2,\n",
    "                   search_space={})"
   ]
  },
  {
   "cell_type": "code",
   "execution_count": 10,
   "id": "0f7dfcb3-e26a-4e8e-8a80-d3989eba53c9",
   "metadata": {},
   "outputs": [
    {
     "name": "stderr",
     "output_type": "stream",
     "text": [
      "\u001b[31m2024/12/31 16:38:07 WARNING mlflow.models.model: Model logged without a signature and input example. Please set `input_example` parameter when logging the model to auto infer the model signature.\u001b[0m\n"
     ]
    },
    {
     "name": "stdout",
     "output_type": "stream",
     "text": [
      "MLflow Run ID: 660b64727bb8424e8cc34f62a700727a\n",
      "CPU times: user 7.39 s, sys: 163 ms, total: 7.55 s\n",
      "Wall time: 9.07 s\n"
     ]
    }
   ],
   "source": [
    "%%time\n",
    "rf1 = rf_dev1.run_model()"
   ]
  },
  {
   "cell_type": "code",
   "execution_count": 11,
   "id": "75a55ab8-d257-4489-a1f1-2b3164f2277d",
   "metadata": {},
   "outputs": [
    {
     "data": {
      "text/plain": [
       "(RandomForestRegressor(max_depth=3, max_features='sqrt', n_estimators=50),\n",
       " '660b64727bb8424e8cc34f62a700727a')"
      ]
     },
     "execution_count": 11,
     "metadata": {},
     "output_type": "execute_result"
    }
   ],
   "source": [
    "rf1"
   ]
  },
  {
   "cell_type": "code",
   "execution_count": 12,
   "id": "12e6e48f-a3b0-41a5-be1c-27636a1f5213",
   "metadata": {},
   "outputs": [
    {
     "name": "stdout",
     "output_type": "stream",
     "text": [
      "RMSE Train: 172825.77862312406\n",
      "RMSE Test: 172385.63985754168\n",
      "R2 Train: 0.3537495181240784\n",
      "R2 Test: 0.3541382666119016\n",
      "Power Ratio Train: 0.9047367125219207\n",
      "Power Ratio Test: 0.9027616293593101\n"
     ]
    }
   ],
   "source": [
    "# Fetch the run details using MLflow API\n",
    "rf1_id = rf1[1]\n",
    "run = mlflow.get_run(rf1_id)\n",
    "\n",
    "# Retrieve the metrics from the run\n",
    "rmse_train = run.data.metrics.get(\"rmse_train\", None)\n",
    "rmse_test = run.data.metrics.get(\"rmse_test\", None)\n",
    "r2_train = run.data.metrics.get(\"r2_train\", None)\n",
    "r2_test = run.data.metrics.get(\"r2_test\", None)\n",
    "pr_train = run.data.metrics.get(\"powerratio_train\", None)\n",
    "pr_test = run.data.metrics.get(\"powerratio_test\", None)\n",
    "\n",
    "# Print the retrieved metrics\n",
    "print(f\"RMSE Train: {rmse_train}\")\n",
    "print(f\"RMSE Test: {rmse_test}\")\n",
    "print(f\"R2 Train: {r2_train}\")\n",
    "print(f\"R2 Test: {r2_test}\")\n",
    "print(f\"Power Ratio Train: {pr_train}\")\n",
    "print(f\"Power Ratio Test: {pr_test}\")"
   ]
  },
  {
   "cell_type": "markdown",
   "id": "d575753c-ee47-4940-977b-971158468223",
   "metadata": {},
   "source": [
    "## 3. HyperOpt (32 fits)"
   ]
  },
  {
   "cell_type": "code",
   "execution_count": 13,
   "id": "0f72a027-839b-4ebb-8f30-aa1fa1bc143e",
   "metadata": {},
   "outputs": [],
   "source": [
    "# Define the parameter space\n",
    "search_space = {\n",
    "\n",
    "    'max_depth': scope.int( hp.quniform('max_depth', 3,8,1) ),  # Max depth\n",
    "    'n_estimators': scope.int( hp.quniform('n_estimators', 50,300,50) ),  # Number of tree estimators\n",
    "    'min_samples_split': scope.int(hp.quniform('min_samples_split', 2, 10, 1)),\n",
    "    \n",
    "    'max_features': hp.choice('max_features', ['auto', 'sqrt', 'log2', None]),\n",
    "    'oob_score': hp.choice('oob_score', [True, False])\n",
    "\n",
    "}"
   ]
  },
  {
   "cell_type": "code",
   "execution_count": 14,
   "id": "2029ce48-9fe9-40f7-bca4-3710320f10e1",
   "metadata": {},
   "outputs": [],
   "source": [
    "rf_dev2 = random_forest_dev_v1(X_train=X_train, y_train=y_train, \n",
    "                   X_test=X_test, y_test=y_test,\n",
    "                   baseline_params = baseline_params,\n",
    "                   baseline_ind=0,\n",
    "                   max_evals=32,\n",
    "                   search_space=search_space)"
   ]
  },
  {
   "cell_type": "code",
   "execution_count": 15,
   "id": "4bcfd266-e035-4065-a8aa-95f0555ad247",
   "metadata": {},
   "outputs": [
    {
     "name": "stdout",
     "output_type": "stream",
     "text": [
      "100%|██████████████████████████████████████████████████████████████████████████████████████████████████████████████████████████████████████████████████████████| 32/32 [1:10:42<00:00, 132.57s/trial, best loss: 6979333496.120527]\n"
     ]
    },
    {
     "name": "stderr",
     "output_type": "stream",
     "text": [
      "\u001b[31m2024/12/31 17:49:08 WARNING mlflow.models.model: Model logged without a signature and input example. Please set `input_example` parameter when logging the model to auto infer the model signature.\u001b[0m\n"
     ]
    },
    {
     "name": "stdout",
     "output_type": "stream",
     "text": [
      "MLflow Run ID: 5e88e0e7c5674615a1378e026281c93d\n",
      "best param: {'max_depth': 8, 'n_estimators': 100, 'min_samples_split': 5, 'max_features': 3, 'oob_score': 1}\n",
      "CPU times: user 1h 10min 22s, sys: 18.9 s, total: 1h 10min 41s\n",
      "Wall time: 1h 11min\n"
     ]
    }
   ],
   "source": [
    "%%time\n",
    "rf2 = rf_dev2.run_model()"
   ]
  },
  {
   "cell_type": "code",
   "execution_count": 16,
   "id": "e8fc91a6-3093-4734-bb20-a38847338b5f",
   "metadata": {},
   "outputs": [
    {
     "data": {
      "text/plain": [
       "(RandomForestRegressor(max_depth=8, max_features=3, min_samples_split=5,\n",
       "                       oob_score=1),\n",
       " '5e88e0e7c5674615a1378e026281c93d')"
      ]
     },
     "execution_count": 16,
     "metadata": {},
     "output_type": "execute_result"
    }
   ],
   "source": [
    "rf2"
   ]
  },
  {
   "cell_type": "code",
   "execution_count": 17,
   "id": "59816419-a2bc-4fa0-bf63-96d1bdd62502",
   "metadata": {},
   "outputs": [
    {
     "name": "stdout",
     "output_type": "stream",
     "text": [
      "RMSE Train: 172067.8623500112\n",
      "RMSE Test: 173132.65554867193\n",
      "R2 Train: 0.3594052687796587\n",
      "R2 Test: 0.34852858573059664\n",
      "Power Ratio Train: 0.885160673344262\n",
      "Power Ratio Test: 0.8784209797566007\n"
     ]
    }
   ],
   "source": [
    "# Fetch the run details using MLflow API\n",
    "run_id = rf2[1]\n",
    "run = mlflow.get_run(run_id)\n",
    "\n",
    "# Retrieve the metrics from the run\n",
    "rmse_train = run.data.metrics.get(\"rmse_train\", None)\n",
    "rmse_test = run.data.metrics.get(\"rmse_test\", None)\n",
    "r2_train = run.data.metrics.get(\"r2_train\", None)\n",
    "r2_test = run.data.metrics.get(\"r2_test\", None)\n",
    "pr_train = run.data.metrics.get(\"powerratio_train\", None)\n",
    "pr_test = run.data.metrics.get(\"powerratio_test\", None)\n",
    "\n",
    "# Print the retrieved metrics\n",
    "print(f\"RMSE Train: {rmse_train}\")\n",
    "print(f\"RMSE Test: {rmse_test}\")\n",
    "print(f\"R2 Train: {r2_train}\")\n",
    "print(f\"R2 Test: {r2_test}\")\n",
    "print(f\"Power Ratio Train: {pr_train}\")\n",
    "print(f\"Power Ratio Test: {pr_test}\")"
   ]
  },
  {
   "cell_type": "markdown",
   "id": "a4576b4d-3b7f-4ec4-b324-d910ddd923e5",
   "metadata": {},
   "source": [
    "## 4. Save the best HyperOpt model"
   ]
  },
  {
   "cell_type": "code",
   "execution_count": 18,
   "id": "2b994822-3e60-42b1-bda7-4a6e0c62e4cc",
   "metadata": {},
   "outputs": [
    {
     "data": {
      "text/plain": [
       "RandomForestRegressor(max_depth=8, max_features=3, min_samples_split=5,\n",
       "                      oob_score=1)"
      ]
     },
     "execution_count": 18,
     "metadata": {},
     "output_type": "execute_result"
    }
   ],
   "source": [
    "rf_model = rf2[0]\n",
    "rf_model"
   ]
  },
  {
   "cell_type": "code",
   "execution_count": 19,
   "id": "87a3556a-25de-466b-a103-1c08beddf56e",
   "metadata": {},
   "outputs": [
    {
     "name": "stdout",
     "output_type": "stream",
     "text": [
      "Model saved to /Users/ben/Desktop/py_proj/account_funds_prediction/models/rf_model.pkl\n"
     ]
    }
   ],
   "source": [
    "save_model(rf_model, \"rf_model.pkl\", \"/Users/ben/Desktop/py_proj/account_funds_prediction/models\")"
   ]
  },
  {
   "cell_type": "code",
   "execution_count": 20,
   "id": "4fab8d92-e9c7-480f-b4a6-d1436869c2a9",
   "metadata": {},
   "outputs": [
    {
     "name": "stdout",
     "output_type": "stream",
     "text": [
      "Model loaded from /Users/ben/Desktop/py_proj/account_funds_prediction/models/rf_model.pkl\n"
     ]
    },
    {
     "data": {
      "text/plain": [
       "RandomForestRegressor(max_depth=8, max_features=3, min_samples_split=5,\n",
       "                      oob_score=1)"
      ]
     },
     "execution_count": 20,
     "metadata": {},
     "output_type": "execute_result"
    }
   ],
   "source": [
    "# test reading the pkl file\n",
    "model_test = load_model(\"rf_model.pkl\", \"/Users/ben/Desktop/py_proj/account_funds_prediction/models\")\n",
    "model_test"
   ]
  },
  {
   "cell_type": "code",
   "execution_count": null,
   "id": "36e37b00-b6d9-4262-995d-367d87fae1da",
   "metadata": {},
   "outputs": [],
   "source": [
    "\n"
   ]
  }
 ],
 "metadata": {
  "kernelspec": {
   "display_name": "Pyproj venv1",
   "language": "python",
   "name": "venv1"
  },
  "language_info": {
   "codemirror_mode": {
    "name": "ipython",
    "version": 3
   },
   "file_extension": ".py",
   "mimetype": "text/x-python",
   "name": "python",
   "nbconvert_exporter": "python",
   "pygments_lexer": "ipython3",
   "version": "3.9.10"
  }
 },
 "nbformat": 4,
 "nbformat_minor": 5
}
